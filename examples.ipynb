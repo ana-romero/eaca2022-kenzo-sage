{
 "cells": [
  {
   "cell_type": "markdown",
   "metadata": {
    "slideshow": {
     "slide_type": "slide"
    }
   },
   "source": [
    "# Example of computations in Kenzo via SageMath and ECL"
   ]
  },
  {
   "cell_type": "code",
   "execution_count": null,
   "metadata": {
    "slideshow": {
     "slide_type": "fragment"
    }
   },
   "outputs": [],
   "source": [
    "from sage.libs.ecl import ecl_eval\n",
    "ecl_eval(\"(require :kenzo)\")\n",
    "ecl_eval(\"(in-package #:cat)\")\n",
    "ecl_eval(\"(setf K (k-z 3))\")"
   ]
  },
  {
   "cell_type": "markdown",
   "metadata": {
    "slideshow": {
     "slide_type": "slide"
    }
   },
   "source": [
    "# Interface between Kenzo and SageMath"
   ]
  },
  {
   "cell_type": "markdown",
   "metadata": {
    "slideshow": {
     "slide_type": "slide"
    }
   },
   "source": [
    "## Examples of computations in SageMath via Kenzo\n"
   ]
  },
  {
   "cell_type": "code",
   "execution_count": null,
   "metadata": {
    "slideshow": {
     "slide_type": "fragment"
    }
   },
   "outputs": [],
   "source": [
    "from sage.interfaces.kenzo import EilenbergMacLaneSpace\n",
    "from sage.interfaces.kenzo import Sphere\n",
    "E = EilenbergMacLaneSpace(AdditiveAbelianGroup([2]), 2)\n",
    "S3 = Sphere(3)\n",
    "L = S3.loop_space()\n",
    "X = E.cartesian_product(L)\n",
    "[X.homology(i) for i in range(8)]"
   ]
  },
  {
   "cell_type": "markdown",
   "metadata": {
    "slideshow": {
     "slide_type": "fragment"
    }
   },
   "source": [
    "# Integration of Kenzo external modules "
   ]
  },
  {
   "cell_type": "markdown",
   "metadata": {
    "slideshow": {
     "slide_type": "fragment"
    }
   },
   "source": [
    "## Wedge of two simplicial sets"
   ]
  },
  {
   "cell_type": "code",
   "execution_count": null,
   "metadata": {
    "slideshow": {
     "slide_type": "fragment"
    }
   },
   "outputs": [],
   "source": [
    "from sage.interfaces.kenzo import Sphere\n",
    "from sage.interfaces.kenzo import KFiniteSimplicialSet\n",
    "T1 = simplicial_sets.Torus()\n",
    "T = KFiniteSimplicialSet(T1)\n",
    "S2 = Sphere(2)\n",
    "lS2 = S2.loop_space()\n",
    "TvlS2 = T.wedge(lS2)\n",
    "[TvlS2.homology(i) for i in range(1,5)]"
   ]
  },
  {
   "cell_type": "markdown",
   "metadata": {
    "slideshow": {
     "slide_type": "fragment"
    }
   },
   "source": [
    "## Join of two simplicial sets"
   ]
  },
  {
   "cell_type": "code",
   "execution_count": null,
   "metadata": {
    "slideshow": {
     "slide_type": "fragment"
    }
   },
   "outputs": [],
   "source": [
    "from sage.interfaces.kenzo import EilenbergMacLaneSpace\n",
    "E1 = EilenbergMacLaneSpace(ZZ, 2)\n",
    "E2 = EilenbergMacLaneSpace(ZZ, 3)\n",
    "E = E1.join(E2)\n",
    "[E.homology(i) for i in range(10)]"
   ]
  },
  {
   "cell_type": "markdown",
   "metadata": {
    "slideshow": {
     "slide_type": "fragment"
    }
   },
   "source": [
    "## Computation of homotopy groups"
   ]
  },
  {
   "cell_type": "code",
   "execution_count": null,
   "metadata": {
    "slideshow": {
     "slide_type": "fragment"
    }
   },
   "outputs": [],
   "source": [
    "sage: from sage.interfaces.kenzo import KFiniteSimplicialSet\n",
    "sage: S3 = simplicial_sets.Sphere(3)\n",
    "sage: T = simplicial_sets.Torus()\n",
    "sage: sT = T.suspension()\n",
    "sage: S3vsT = S3.wedge(sT)\n",
    "sage: K = KFiniteSimplicialSet(S3vsT)\n",
    "sage: [K.homotopy_group(i) for i in range(2,4)]"
   ]
  },
  {
   "cell_type": "markdown",
   "metadata": {
    "slideshow": {
     "slide_type": "slide"
    }
   },
   "source": [
    "## Spectral sequences "
   ]
  },
  {
   "cell_type": "markdown",
   "metadata": {
    "slideshow": {
     "slide_type": "slide"
    }
   },
   "source": [
    "## Serre spectral sequence of a bicomplex\n",
    "\n"
   ]
  },
  {
   "cell_type": "code",
   "execution_count": null,
   "metadata": {
    "scrolled": true,
    "slideshow": {
     "slide_type": "fragment"
    }
   },
   "outputs": [],
   "source": [
    "C1 = ChainComplex({1: matrix(ZZ, 0, 2, [])}, degree_of_differential=-1)\n",
    "C2 = ChainComplex({1: matrix(ZZ, 1, 2, [1, 0])}, degree_of_differential=-1)\n",
    "C3 = ChainComplex({0: matrix(ZZ, 0,2 , [])}, degree_of_differential=-1)\n",
    "M1 = Hom(C2,C1)({1: matrix(ZZ, 2, 2, [2, 0, 0, 2])})\n",
    "M2 = Hom(C3,C2)({0: matrix(ZZ, 1, 2, [2, 0])})   \n",
    "from sage.interfaces.kenzo import BicomplexSpectralSequence\n",
    "l = [M1, M2]\n",
    "E = BicomplexSpectralSequence(l)\n",
    "E.group(2,0,1)"
   ]
  },
  {
   "cell_type": "code",
   "execution_count": null,
   "metadata": {
    "scrolled": true,
    "slideshow": {
     "slide_type": "fragment"
    }
   },
   "outputs": [],
   "source": [
    "E.table(3,0,2,0,2)"
   ]
  },
  {
   "cell_type": "code",
   "execution_count": null,
   "metadata": {
    "scrolled": true,
    "slideshow": {
     "slide_type": "fragment"
    }
   },
   "outputs": [],
   "source": [
    "E.matrix(2,2,0)"
   ]
  },
  {
   "cell_type": "markdown",
   "metadata": {
    "slideshow": {
     "slide_type": "slide"
    }
   },
   "source": [
    "## Serre spectral sequence of a cartesian product\n",
    "\n"
   ]
  },
  {
   "cell_type": "code",
   "execution_count": null,
   "metadata": {
    "scrolled": true,
    "slideshow": {
     "slide_type": "fragment"
    }
   },
   "outputs": [],
   "source": [
    "from sage.interfaces.kenzo import Sphere\n",
    "S2 = Sphere(2)                           \n",
    "S3 = Sphere(3)                           \n",
    "P = S3.cartesian_product(S2)              \n",
    "E = P.serre_spectral_sequence()    \n",
    "E.group(2,3,0)\n"
   ]
  },
  {
   "cell_type": "code",
   "execution_count": null,
   "metadata": {
    "scrolled": true,
    "slideshow": {
     "slide_type": "fragment"
    }
   },
   "outputs": [],
   "source": [
    "E.table(2, 0, 3, 0, 2)                   "
   ]
  },
  {
   "cell_type": "code",
   "execution_count": null,
   "metadata": {
    "slideshow": {
     "slide_type": "fragment"
    }
   },
   "outputs": [],
   "source": [
    "E.matrix(3,3,0)"
   ]
  },
  {
   "cell_type": "markdown",
   "metadata": {
    "slideshow": {
     "slide_type": "slide"
    }
   },
   "source": [
    "## Serre spectral sequence of the Whitehead tower\n",
    "\n"
   ]
  },
  {
   "cell_type": "code",
   "execution_count": null,
   "metadata": {
    "scrolled": true,
    "slideshow": {
     "slide_type": "fragment"
    }
   },
   "outputs": [],
   "source": [
    "from sage.interfaces.kenzo import Sphere                       \n",
    "S3 = Sphere(3)                      \n",
    "E = S3.sw_spectral_sequence() \n",
    "E.table(2, 0, 3, 0, 4)"
   ]
  },
  {
   "cell_type": "code",
   "execution_count": null,
   "metadata": {
    "slideshow": {
     "slide_type": "fragment"
    }
   },
   "outputs": [],
   "source": [
    "E.matrix(3,3,0)"
   ]
  },
  {
   "cell_type": "code",
   "execution_count": null,
   "metadata": {
    "slideshow": {
     "slide_type": "fragment"
    }
   },
   "outputs": [],
   "source": [
    "E.matrix(3,3,2)"
   ]
  },
  {
   "cell_type": "markdown",
   "metadata": {
    "slideshow": {
     "slide_type": "slide"
    }
   },
   "source": [
    "## Eilenberg-Moore spectral sequence\n",
    "\n"
   ]
  },
  {
   "cell_type": "code",
   "execution_count": null,
   "metadata": {
    "scrolled": true,
    "slideshow": {
     "slide_type": "fragment"
    }
   },
   "outputs": [],
   "source": [
    "from sage.interfaces.kenzo import Sphere   \n",
    "S3 = Sphere(3)\n",
    "L = S3.loop_space() \n",
    "EMS = L.em_spectral_sequence()\n",
    "EMS.table(1, -5, -2, 5, 8)              "
   ]
  },
  {
   "cell_type": "code",
   "execution_count": null,
   "metadata": {
    "slideshow": {
     "slide_type": "fragment"
    }
   },
   "outputs": [],
   "source": [
    "EMS.matrix(1, -2 ,8)"
   ]
  }
 ],
 "metadata": {
  "celltoolbar": "Slideshow",
  "kernelspec": {
   "display_name": "SageMath 8.8.beta7",
   "language": "sage",
   "name": "sagemath"
  },
  "language_info": {
   "codemirror_mode": {
    "name": "ipython",
    "version": 2
   },
   "file_extension": ".py",
   "mimetype": "text/x-python",
   "name": "python",
   "nbconvert_exporter": "python",
   "pygments_lexer": "ipython2",
   "version": "2.7.15"
  }
 },
 "nbformat": 4,
 "nbformat_minor": 2
}
