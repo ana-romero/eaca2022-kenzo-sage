{
 "cells": [
  {
   "cell_type": "markdown",
   "metadata": {
    "slideshow": {
     "slide_type": "slide"
    }
   },
   "source": [
    "This file provides an executable environment with the examples presented in the paper \"Integration of the Kenzo system within SageMath for new Algebraic Topology Computations\" by Julián Cuevas Rozo, Jose Divasón, Miguel Marco Buzunáriz and Ana Romero.\n",
    "\n",
    "Due to the computing limitations of Binder, some of the examples that appear in the paper are presented here for smaller dimensions. This file should be used to show the examples and how the interface works. For intensive computations, we recomend to install Sage with the Kenzo optional package locally."
   ]
  },
  {
   "cell_type": "markdown",
   "metadata": {},
   "source": [
    "# Example of computations in Kenzo via SageMath and ECL"
   ]
  },
  {
   "cell_type": "code",
   "execution_count": null,
   "metadata": {
    "slideshow": {
     "slide_type": "fragment"
    }
   },
   "outputs": [],
   "source": [
    "from sage.libs.ecl import ecl_eval\n",
    "ecl_eval(\"(require :kenzo)\")\n",
    "ecl_eval(\"(in-package #:cat)\")\n",
    "ecl_eval(\"(setf K (k-z 3))\")"
   ]
  },
  {
   "cell_type": "markdown",
   "metadata": {
    "slideshow": {
     "slide_type": "slide"
    }
   },
   "source": [
    "# Interface between Kenzo and SageMath"
   ]
  },
  {
   "cell_type": "markdown",
   "metadata": {
    "slideshow": {
     "slide_type": "slide"
    }
   },
   "source": [
    "## Examples of computations in SageMath via Kenzo\n"
   ]
  },
  {
   "cell_type": "code",
   "execution_count": null,
   "metadata": {
    "slideshow": {
     "slide_type": "fragment"
    }
   },
   "outputs": [],
   "source": [
    "from sage.interfaces.kenzo import EilenbergMacLaneSpace\n",
    "from sage.interfaces.kenzo import Sphere\n",
    "E = EilenbergMacLaneSpace(AdditiveAbelianGroup([2]), 2)\n",
    "S3 = Sphere(3)\n",
    "L = S3.loop_space()\n",
    "X = E.cartesian_product(L)\n",
    "[X.homology(i) for i in range(8)]"
   ]
  },
  {
   "cell_type": "markdown",
   "metadata": {},
   "source": [
    "# Homotopy groups"
   ]
  },
  {
   "cell_type": "code",
   "execution_count": null,
   "metadata": {},
   "outputs": [],
   "source": [
    "from sage.interfaces.kenzo import KFiniteSimplicialSet\n",
    "S3 = simplicial_sets.Sphere(3)\n",
    "T = simplicial_sets.Torus()\n",
    "sT = T.suspension()\n",
    "S3vsT = S3.wedge (sT)\n",
    "K = KFiniteSimplicialSet(S3vsT)\n",
    "[K.homotopy_group(i) for i in range (2,4)]"
   ]
  },
  {
   "cell_type": "markdown",
   "metadata": {},
   "source": [
    "## Discovering new homotopy groups\n",
    "\n",
    "WARNING: This example has been executed in a computing node with Intel Xeon E5-2650 v4, 2.20GHz processors and 512 GB of RAM. It took more than 14 hours. Do not execute in Binder."
   ]
  },
  {
   "cell_type": "code",
   "execution_count": null,
   "metadata": {},
   "outputs": [],
   "source": [
    "NI = simplicial_complexes.NotIConnectedGraphs(5,3); NI\n",
    "[NI.homology(i) for i in range(1,8)]"
   ]
  },
  {
   "cell_type": "code",
   "execution_count": null,
   "metadata": {},
   "outputs": [],
   "source": [
    "import sage.libs.ecl\n",
    "from sage.homology.simplicial_set import SimplicialSet\n",
    "from sage.interfaces.kenzo import KFiniteSimplicialSet\n",
    "sage.libs.ecl.ecl_eval(\"(ext:set-limit 'ext:heap-size 0)\")\n",
    "SNI = SimplicialSet(NI)\n",
    "KNI = KFiniteSimplicialSet(SNI)\n",
    "pi6 = KNI.homotopy_group(6); pi6"
   ]
  },
  {
   "cell_type": "code",
   "execution_count": null,
   "metadata": {},
   "outputs": [],
   "source": [
    "# This is the computation that takes many hours.\n",
    "# pi7 = KNI.homotopy_group(7); pi7"
   ]
  },
  {
   "cell_type": "markdown",
   "metadata": {
    "slideshow": {
     "slide_type": "fragment"
    }
   },
   "source": [
    "# Integration of Kenzo external modules "
   ]
  },
  {
   "cell_type": "markdown",
   "metadata": {
    "slideshow": {
     "slide_type": "fragment"
    }
   },
   "source": [
    "## Wedge of two simplicial sets"
   ]
  },
  {
   "cell_type": "code",
   "execution_count": null,
   "metadata": {
    "slideshow": {
     "slide_type": "fragment"
    }
   },
   "outputs": [],
   "source": [
    "from sage.interfaces.kenzo import Sphere\n",
    "from sage.interfaces.kenzo import KFiniteSimplicialSet\n",
    "T1 = simplicial_sets.Torus()\n",
    "T = KFiniteSimplicialSet(T1)\n",
    "S2 = Sphere(2)\n",
    "lS2 = S2.loop_space()\n",
    "TvlS2 = T.wedge(lS2)\n",
    "[TvlS2.homology(i) for i in range(1,5)]"
   ]
  },
  {
   "cell_type": "markdown",
   "metadata": {
    "slideshow": {
     "slide_type": "fragment"
    }
   },
   "source": [
    "## Join of two simplicial sets"
   ]
  },
  {
   "cell_type": "code",
   "execution_count": null,
   "metadata": {
    "slideshow": {
     "slide_type": "fragment"
    }
   },
   "outputs": [],
   "source": [
    "from sage.interfaces.kenzo import EilenbergMacLaneSpace\n",
    "E1 = EilenbergMacLaneSpace(ZZ, 2)\n",
    "E2 = EilenbergMacLaneSpace(ZZ, 3)\n",
    "E = E1.join(E2)\n",
    "[E.homology(i) for i in range(10)]"
   ]
  },
  {
   "cell_type": "code",
   "execution_count": null,
   "metadata": {},
   "outputs": [],
   "source": [
    "[E.homotopy_group(i) for i in range(6, 8)]"
   ]
  },
  {
   "cell_type": "markdown",
   "metadata": {},
   "source": [
    "## Smash Products"
   ]
  },
  {
   "cell_type": "code",
   "execution_count": null,
   "metadata": {},
   "outputs": [],
   "source": [
    "E3 = E1.smash_product(E2)\n",
    "[E3.homology(i) for i in range(10)]"
   ]
  },
  {
   "cell_type": "code",
   "execution_count": null,
   "metadata": {},
   "outputs": [],
   "source": [
    "[E3.homotopy_group(i) for i in range(5, 8)]"
   ]
  },
  {
   "cell_type": "markdown",
   "metadata": {
    "slideshow": {
     "slide_type": "slide"
    }
   },
   "source": [
    "## Spectral sequences "
   ]
  },
  {
   "cell_type": "markdown",
   "metadata": {
    "slideshow": {
     "slide_type": "slide"
    }
   },
   "source": [
    "## Serre spectral sequence of a bicomplex\n",
    "\n"
   ]
  },
  {
   "cell_type": "code",
   "execution_count": null,
   "metadata": {
    "scrolled": true,
    "slideshow": {
     "slide_type": "fragment"
    }
   },
   "outputs": [],
   "source": [
    "C1 = ChainComplex({1: matrix(ZZ, 0, 2, [])}, degree_of_differential=-1)\n",
    "C2 = ChainComplex({1: matrix(ZZ, 1, 2, [1, 0])}, degree_of_differential=-1)\n",
    "C3 = ChainComplex({0: matrix(ZZ, 0,2 , [])}, degree_of_differential=-1)\n",
    "M1 = Hom(C2,C1)({1: matrix(ZZ, 2, 2, [2, 0, 0, 2])})\n",
    "M2 = Hom(C3,C2)({0: matrix(ZZ, 1, 2, [2, 0])})   \n",
    "from sage.interfaces.kenzo import BicomplexSpectralSequence\n",
    "l = [M1, M2]\n",
    "E = BicomplexSpectralSequence(l)\n",
    "E.group(2,0,1)"
   ]
  },
  {
   "cell_type": "code",
   "execution_count": null,
   "metadata": {
    "scrolled": true,
    "slideshow": {
     "slide_type": "fragment"
    }
   },
   "outputs": [],
   "source": [
    "E.table(3,0,2,0,2)"
   ]
  },
  {
   "cell_type": "code",
   "execution_count": null,
   "metadata": {
    "scrolled": true,
    "slideshow": {
     "slide_type": "fragment"
    }
   },
   "outputs": [],
   "source": [
    "E.matrix(2,2,0)"
   ]
  },
  {
   "cell_type": "markdown",
   "metadata": {
    "slideshow": {
     "slide_type": "slide"
    }
   },
   "source": [
    "## Serre spectral sequence of a cartesian product\n",
    "\n"
   ]
  },
  {
   "cell_type": "code",
   "execution_count": null,
   "metadata": {
    "scrolled": true,
    "slideshow": {
     "slide_type": "fragment"
    }
   },
   "outputs": [],
   "source": [
    "from sage.interfaces.kenzo import Sphere\n",
    "S2 = Sphere(2)                           \n",
    "S3 = Sphere(3)                           \n",
    "P = S3.cartesian_product(S2)              \n",
    "E = P.serre_spectral_sequence()    \n",
    "E.group(2,3,0)\n"
   ]
  },
  {
   "cell_type": "code",
   "execution_count": null,
   "metadata": {
    "scrolled": true,
    "slideshow": {
     "slide_type": "fragment"
    }
   },
   "outputs": [],
   "source": [
    "E.table(2, 0, 3, 0, 2)                   "
   ]
  },
  {
   "cell_type": "code",
   "execution_count": null,
   "metadata": {
    "slideshow": {
     "slide_type": "fragment"
    }
   },
   "outputs": [],
   "source": [
    "E.matrix(3,3,0)"
   ]
  },
  {
   "cell_type": "markdown",
   "metadata": {
    "slideshow": {
     "slide_type": "slide"
    }
   },
   "source": [
    "## Serre spectral sequence of the Whitehead tower\n",
    "\n"
   ]
  },
  {
   "cell_type": "code",
   "execution_count": null,
   "metadata": {
    "scrolled": true,
    "slideshow": {
     "slide_type": "fragment"
    }
   },
   "outputs": [],
   "source": [
    "from sage.interfaces.kenzo import Sphere                       \n",
    "S3 = Sphere(3)                      \n",
    "E = S3.sw_spectral_sequence() \n",
    "E.table(2, 0, 3, 0, 4)"
   ]
  },
  {
   "cell_type": "code",
   "execution_count": null,
   "metadata": {
    "slideshow": {
     "slide_type": "fragment"
    }
   },
   "outputs": [],
   "source": [
    "E.matrix(3,3,0)"
   ]
  },
  {
   "cell_type": "code",
   "execution_count": null,
   "metadata": {
    "slideshow": {
     "slide_type": "fragment"
    }
   },
   "outputs": [],
   "source": [
    "E.matrix(3,3,2)"
   ]
  },
  {
   "cell_type": "markdown",
   "metadata": {
    "slideshow": {
     "slide_type": "slide"
    }
   },
   "source": [
    "## Eilenberg-Moore spectral sequence"
   ]
  },
  {
   "cell_type": "code",
   "execution_count": null,
   "metadata": {
    "scrolled": true,
    "slideshow": {
     "slide_type": "fragment"
    }
   },
   "outputs": [],
   "source": [
    "from sage.interfaces.kenzo import Sphere   \n",
    "S3 = Sphere(3)\n",
    "L = S3.loop_space() \n",
    "EMS = L.em_spectral_sequence()\n",
    "EMS.table(1, -5, -2, 5, 8)              "
   ]
  },
  {
   "cell_type": "code",
   "execution_count": null,
   "metadata": {
    "slideshow": {
     "slide_type": "fragment"
    }
   },
   "outputs": [],
   "source": [
    "EMS.matrix(1, -2 ,8)"
   ]
  },
  {
   "cell_type": "markdown",
   "metadata": {
    "slideshow": {
     "slide_type": "slide"
    }
   },
   "source": [
    "## Finite topological spaces"
   ]
  },
  {
   "cell_type": "code",
   "execution_count": null,
   "metadata": {},
   "outputs": [],
   "source": [
    "from sage.homology.finite_topological_spaces import FiniteSpace\n",
    "minimal_basis = {5: {4, 5}, 4: {4}, 2: {2}, 6: {2, 4, 6}, 1: {1, 2, 4}, 3: {1, 2, 4, 3}}\n",
    "M = FiniteSpace(minimal_basis)\n",
    "M.core()"
   ]
  },
  {
   "cell_type": "code",
   "execution_count": null,
   "metadata": {},
   "outputs": [],
   "source": [
    "covers = [[9, 13], [7, 13], [4, 13], [8, 12], [7, 12], [5, 12],\n",
    "                [9, 11], [6, 11], [5, 11], [8, 10], [6, 10], [4, 10],\n",
    "                [3, 9], [2, 9], [3, 8], [2, 8], [3, 7], [1, 7],\n",
    "                [3, 6], [1, 6], [2, 5], [1, 5], [2, 4], [1, 4]]\n",
    "P = Poset((list(range(1,14)), covers), cover_relations = True)\n",
    "X = FiniteSpace(P)\n",
    "dvf = X.discrete_vector_field()\n",
    "X.hregular_homology()"
   ]
  }
 ],
 "metadata": {
  "celltoolbar": "Slideshow",
  "kernelspec": {
   "display_name": "SageMath 9.3.beta0",
   "language": "sage",
   "name": "sagemath"
  },
  "language_info": {
   "codemirror_mode": {
    "name": "ipython",
    "version": 3
   },
   "file_extension": ".py",
   "mimetype": "text/x-python",
   "name": "python",
   "nbconvert_exporter": "python",
   "pygments_lexer": "ipython3",
   "version": "3.8.5"
  }
 },
 "nbformat": 4,
 "nbformat_minor": 2
}
